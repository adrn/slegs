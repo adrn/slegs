{
 "cells": [
  {
   "cell_type": "markdown",
   "metadata": {},
   "source": [
    "Using data around the ATLAS stream, try to improve star-galaxy separation"
   ]
  },
  {
   "cell_type": "code",
   "execution_count": null,
   "metadata": {},
   "outputs": [],
   "source": [
    "import astropy.coordinates as coord\n",
    "import astropy.table as at\n",
    "import astropy.units as u\n",
    "import matplotlib as mpl\n",
    "import matplotlib.pyplot as plt\n",
    "%matplotlib inline\n",
    "import numpy as np\n",
    "\n",
    "from scipy.stats import binned_statistic\n",
    "\n",
    "from galstreams import MWStreams\n",
    "streams = MWStreams(verbose=0)"
   ]
  },
  {
   "cell_type": "code",
   "execution_count": null,
   "metadata": {},
   "outputs": [],
   "source": [
    "stream = streams['ATLAS']\n",
    "stream_fr = stream.gcfr"
   ]
  },
  {
   "cell_type": "code",
   "execution_count": null,
   "metadata": {},
   "outputs": [],
   "source": [
    "def ps1_to_decals(g, r, i, z):\n",
    "    g_dec = (g + 0.00062 + 0.03604*(g - i) + \n",
    "             0.01028*(g - i)**2 - 0.00613*(g - i)**3)\n",
    "    r_dec = (r + 0.00495 - 0.08435*(g - i) + \n",
    "             0.03222*(g - i)**2 - 0.01140*(g - i)**3)\n",
    "    z_dec = (z + 0.02583 - 0.07690*(g - i) + \n",
    "             0.02824*(g - i)**2 - 0.00898*(g - i)**3)\n",
    "    return g_dec, r_dec, z_dec"
   ]
  },
  {
   "cell_type": "code",
   "execution_count": null,
   "metadata": {},
   "outputs": [],
   "source": [
    "t = at.Table.read('../data/atlas_ls_dr8.fits.gz')\n",
    "init_mask = (t['snr_g'] > 1) & (t['snr_r'] > 1) & (t['snr_z'] > 1)\n",
    "t = t[init_mask]\n",
    "len(t)"
   ]
  },
  {
   "cell_type": "code",
   "execution_count": null,
   "metadata": {},
   "outputs": [],
   "source": [
    "g = t['dered_mag_g']\n",
    "r = t['dered_mag_r']\n",
    "z = t['dered_mag_z']\n",
    "gr = g - r\n",
    "rz = r - z\n",
    "\n",
    "err_g = 1 / t['snr_g']\n",
    "err_r = 1 / t['snr_r']\n",
    "err_z = 1 / t['snr_z']"
   ]
  },
  {
   "cell_type": "code",
   "execution_count": null,
   "metadata": {},
   "outputs": [],
   "source": [
    "t_c = coord.SkyCoord(t['ra']*u.deg, t['dec']*u.deg)\n",
    "t_fr = t_c.transform_to(stream_fr)"
   ]
  },
  {
   "cell_type": "code",
   "execution_count": null,
   "metadata": {},
   "outputs": [],
   "source": [
    "fig, axes = plt.subplots(1, 2, figsize=(12, 6))\n",
    "\n",
    "ax = axes[0]\n",
    "mask = (g > 19) & (g < 21)\n",
    "ax.hist2d(gr[mask], \n",
    "          rz[mask],\n",
    "          bins=np.arange(-1, 3+1e-3, 0.02),\n",
    "          norm=mpl.colors.LogNorm());\n",
    "\n",
    "ax = axes[1]\n",
    "mask = (g > 23) & (g < 23.5)\n",
    "ax.hist2d(gr[mask], \n",
    "          rz[mask],\n",
    "          bins=np.arange(-1, 3+1e-3, 0.02),\n",
    "          norm=mpl.colors.LogNorm());"
   ]
  },
  {
   "cell_type": "code",
   "execution_count": null,
   "metadata": {},
   "outputs": [],
   "source": [
    "fig, ax = plt.subplots(1, 1, figsize=(6, 6))\n",
    "mask = (g > 15) & (g < 21.5)\n",
    "ax.plot(rz[mask], gr[mask],\n",
    "        marker='o', ls='none', mew=0, ms=1., alpha=0.1)\n",
    "ax.set_xlim(-1, 3)\n",
    "ax.set_ylim(-1, 3)"
   ]
  },
  {
   "cell_type": "code",
   "execution_count": null,
   "metadata": {},
   "outputs": [],
   "source": [
    "from scipy.interpolate import interp1d"
   ]
  },
  {
   "cell_type": "code",
   "execution_count": null,
   "metadata": {},
   "outputs": [],
   "source": [
    "fig, ax = plt.subplots(1, 1, figsize=(6, 6))\n",
    "mask = (g > 15) & (g < 21.5)\n",
    "# mask = (g > 22) & (g < 23)\n",
    "ax.plot(rz[mask], gr[mask],\n",
    "        marker='o', ls='none', mew=0, ms=1., alpha=0.1)\n",
    "\n",
    "ax.set_xlim(-1, 3)\n",
    "ax.set_ylim(-1, 3)\n",
    "\n",
    "poly_nodes = np.array([[-0.05, 0],\n",
    "                       [0.7, 1.05],\n",
    "                       [3, 1.5],\n",
    "                       [3, 2],\n",
    "                       [0.6, 1.35],\n",
    "                       [-0.12, 0.15],\n",
    "                       [-1,-0.2],\n",
    "                       [-0.8, -1]])\n",
    "ax.plot(poly_nodes[:, 0], poly_nodes[:, 1])\n",
    "poly_mask = mpl.path.Path(poly_nodes).contains_points(\n",
    "    np.stack((rz, gr)).T)\n",
    "\n",
    "stat = binned_statistic(rz[mask & poly_mask], \n",
    "                        gr[mask & poly_mask],\n",
    "                        bins=np.arange(-1, 3, 0.1),\n",
    "                        statistic='median')\n",
    "bin_ctr = 0.5 * (stat.bin_edges[:-1] + stat.bin_edges[1:])\n",
    "\n",
    "# HACK:\n",
    "x = bin_ctr[2:]\n",
    "y = stat.statistic[2:]\n",
    "# x = np.concatenate(([-0.7, -0.15, 0.1], bin_ctr[6:]))\n",
    "# y = np.concatenate(([-0.5, 0., 0.32], stat.statistic[6:]))\n",
    "sl_interp = interp1d(x, y, kind='cubic', bounds_error=False)\n",
    "ax.plot(x, y,\n",
    "        color='tab:red')"
   ]
  },
  {
   "cell_type": "code",
   "execution_count": null,
   "metadata": {},
   "outputs": [],
   "source": [
    "fig, ax = plt.subplots(1, 1, figsize=(6, 6))\n",
    "# mask = (g > 15) & (g < 21.5)\n",
    "mask = (g > 23) & (g < 24)\n",
    "ax.plot(rz[mask], gr[mask],\n",
    "        marker='o', ls='none', mew=0, ms=1., alpha=0.1)\n",
    "\n",
    "ax.set_xlim(-1, 3)\n",
    "ax.set_ylim(-1, 3)"
   ]
  },
  {
   "cell_type": "code",
   "execution_count": null,
   "metadata": {},
   "outputs": [],
   "source": [
    "def get_smudge(g):\n",
    "    if g < 22:\n",
    "        return 0.08\n",
    "    else:\n",
    "        return 0.05/2*(g - 22) + 0.08"
   ]
  },
  {
   "cell_type": "code",
   "execution_count": null,
   "metadata": {},
   "outputs": [],
   "source": [
    "gbins = np.arange(20, 24+1e-3, 1)\n",
    "for _l, _r in zip(gbins[:-1], gbins[1:]):\n",
    "    mask = (g > _l) & (g < _r)\n",
    "    \n",
    "    fig, ax = plt.subplots(1, 1, figsize=(6, 6))\n",
    "    \n",
    "    ax.plot(rz[mask], gr[mask],\n",
    "            marker='o', ls='none', mew=0, ms=1., alpha=0.1)\n",
    "    \n",
    "    sm = get_smudge(0.5 * (_l+_r))\n",
    "    ax.plot(x - sm, y + 1.25*sm,\n",
    "            color='tab:red')\n",
    "    ax.plot(x + sm, y - sm,\n",
    "            color='tab:red')\n",
    "    ax.set_xlim(-1, 3)\n",
    "    ax.set_ylim(-1, 3)\n",
    "    \n",
    "    ax.set_title(f'{_l:.1f} {_r:.1f}')"
   ]
  },
  {
   "cell_type": "code",
   "execution_count": null,
   "metadata": {},
   "outputs": [],
   "source": [
    "iso = at.Table.read('/Users/apricewhelan/data/Isochrones/MIST/FeH_-1.8_iso.fits')"
   ]
  },
  {
   "cell_type": "code",
   "execution_count": null,
   "metadata": {},
   "outputs": [],
   "source": [
    "iso = iso[iso['log10_isochrone_age_yr'] == 10]\n",
    "iso = iso[iso['phase'] < 2]"
   ]
  },
  {
   "cell_type": "code",
   "execution_count": null,
   "metadata": {},
   "outputs": [],
   "source": [
    "dm = coord.Distance(20*u.kpc).distmod.value\n",
    "\n",
    "plt.figure(figsize=(6, 6))\n",
    "plt.plot(iso['ps1_g'] - iso['ps1_r'],\n",
    "         iso['ps1_g'] + dm)\n",
    "plt.xlim(-0.5, 1.5)\n",
    "plt.ylim(24, 15)"
   ]
  },
  {
   "cell_type": "code",
   "execution_count": null,
   "metadata": {},
   "outputs": [],
   "source": [
    "iso_grz = ps1_to_decals(iso['ps1_g'], iso['ps1_r'], iso['ps1_i'], iso['ps1_z'])\n",
    "\n",
    "for i in range(2):\n",
    "    fig, axes = plt.subplots(1, 2, figsize=(12, 6))\n",
    "\n",
    "    ax = axes[0]\n",
    "    ax.hist2d(gr, g,\n",
    "              bins=(np.arange(-0.5, 1.5, 0.02),\n",
    "                    np.arange(16, 24+1e-3, 0.06)),\n",
    "              norm=mpl.colors.LogNorm());\n",
    "    if i > 0:\n",
    "        ax.plot(iso_grz[0] - iso_grz[1],\n",
    "                iso_grz[0] + dm)\n",
    "    ax.set_ylim(ax.get_ylim()[::-1])\n",
    "\n",
    "    ax = axes[1]\n",
    "    ax.hist2d(rz, g,\n",
    "              bins=(np.arange(-0.5, 1., 0.02),\n",
    "                    np.arange(16, 24+1e-3, 0.06)),\n",
    "              norm=mpl.colors.LogNorm());\n",
    "    if i > 0:\n",
    "        ax.plot(iso_grz[1] - iso_grz[2],\n",
    "                iso_grz[0] + dm)\n",
    "    ax.set_ylim(ax.get_ylim()[::-1])"
   ]
  },
  {
   "cell_type": "code",
   "execution_count": null,
   "metadata": {},
   "outputs": [],
   "source": [
    "grg_interp = interp1d(iso_grz[0] + dm,\n",
    "                      iso_grz[0] - iso_grz[1],\n",
    "                      bounds_error=False)\n",
    "rzg_interp = interp1d(iso_grz[0] + dm,\n",
    "                      iso_grz[1] - iso_grz[2],\n",
    "                      bounds_error=False)"
   ]
  },
  {
   "cell_type": "code",
   "execution_count": null,
   "metadata": {},
   "outputs": [],
   "source": [
    "gr_sqdiff = (gr - grg_interp(g))**2 / (err_g**2 + err_r**2 + 0.02**2)\n",
    "rz_sqdiff = (rz - rzg_interp(g))**2 / (err_r**2 + err_z**2 + 0.02**2)\n",
    "\n",
    "sqdiff = gr_sqdiff + rz_sqdiff\n",
    "sqdiff_mask = (np.sqrt(sqdiff) < 2.)"
   ]
  },
  {
   "cell_type": "code",
   "execution_count": null,
   "metadata": {},
   "outputs": [],
   "source": [
    "fig, axes = plt.subplots(1, 2, figsize=(12, 6))\n",
    "\n",
    "ax = axes[0]\n",
    "ax.hist2d(gr, g,\n",
    "          bins=(np.arange(-0.5, 1.5, 0.02),\n",
    "                np.arange(16, 24+1e-3, 0.06)),\n",
    "          norm=mpl.colors.LogNorm());\n",
    "\n",
    "ax.hist2d(gr[sqdiff_mask], g[sqdiff_mask],\n",
    "          bins=(np.arange(-0.5, 1.5, 0.02),\n",
    "                np.arange(16, 24+1e-3, 0.06)),\n",
    "          norm=mpl.colors.LogNorm(),\n",
    "          cmap='Blues');\n",
    "\n",
    "ax.set_ylim(ax.get_ylim()[::-1])\n",
    "\n",
    "ax = axes[1]\n",
    "ax.hist2d(rz, g,\n",
    "          bins=(np.arange(-0.5, 1., 0.02),\n",
    "                np.arange(16, 24+1e-3, 0.06)),\n",
    "          norm=mpl.colors.LogNorm());\n",
    "\n",
    "ax.hist2d(rz[sqdiff_mask], g[sqdiff_mask],\n",
    "          bins=(np.arange(-0.5, 1.5, 0.02),\n",
    "                np.arange(16, 24+1e-3, 0.06)),\n",
    "          norm=mpl.colors.LogNorm(),\n",
    "          cmap='Blues');\n",
    "\n",
    "ax.set_ylim(ax.get_ylim()[::-1])"
   ]
  },
  {
   "cell_type": "markdown",
   "metadata": {},
   "source": [
    "---\n",
    "\n",
    "Simple isochrone filter:"
   ]
  },
  {
   "cell_type": "code",
   "execution_count": null,
   "metadata": {},
   "outputs": [],
   "source": [
    "func = lambda x: 0.04 * (x/20)**5\n",
    "\n",
    "iso_g = iso_grz[0] + dm\n",
    "iso_X1 = np.stack((iso_grz[0] - iso_grz[1] - func(iso_g),\n",
    "                   iso_g)).T\n",
    "iso_X2 = np.stack((iso_grz[0] - iso_grz[1] + func(iso_g),\n",
    "                   iso_g)).T\n",
    "\n",
    "# ---\n",
    "\n",
    "fig, ax = plt.subplots(1, 1, figsize=(6, 6))\n",
    "\n",
    "ax.hist2d(gr, g,\n",
    "          bins=(np.arange(-0.5, 1.5, 0.02),\n",
    "                np.arange(16, 24+1e-3, 0.06)),\n",
    "          norm=mpl.colors.LogNorm());\n",
    "\n",
    "ax.plot(iso_X1[:, 0], iso_X1[:, 1])\n",
    "ax.plot(iso_X2[:, 0], iso_X2[:, 1])\n",
    "\n",
    "ax.set_ylim(ax.get_ylim()[::-1])"
   ]
  },
  {
   "cell_type": "code",
   "execution_count": null,
   "metadata": {},
   "outputs": [],
   "source": [
    "simple_mask = mpl.path.Path(np.vstack((iso_X1, iso_X2[::-1])))\\\n",
    "    .contains_points(np.stack((gr, g)).T)"
   ]
  },
  {
   "cell_type": "code",
   "execution_count": null,
   "metadata": {},
   "outputs": [],
   "source": [
    "fig, axes = plt.subplots(1, 2, figsize=(12, 6))\n",
    "\n",
    "ax = axes[0]\n",
    "ax.hist2d(gr, g,\n",
    "          bins=(np.arange(-0.5, 1.5, 0.02),\n",
    "                np.arange(16, 24+1e-3, 0.06)),\n",
    "          norm=mpl.colors.LogNorm());\n",
    "\n",
    "ax.hist2d(gr[simple_mask], g[simple_mask],\n",
    "          bins=(np.arange(-0.5, 1.5, 0.02),\n",
    "                np.arange(16, 24+1e-3, 0.06)),\n",
    "          norm=mpl.colors.LogNorm(),\n",
    "          cmap='Blues');\n",
    "\n",
    "ax.set_ylim(ax.get_ylim()[::-1])\n",
    "\n",
    "ax = axes[1]\n",
    "ax.hist2d(rz, g,\n",
    "          bins=(np.arange(-0.5, 1., 0.02),\n",
    "                np.arange(16, 24+1e-3, 0.06)),\n",
    "          norm=mpl.colors.LogNorm());\n",
    "\n",
    "ax.hist2d(rz[simple_mask], g[simple_mask],\n",
    "          bins=(np.arange(-0.5, 1.5, 0.02),\n",
    "                np.arange(16, 24+1e-3, 0.06)),\n",
    "          norm=mpl.colors.LogNorm(),\n",
    "          cmap='Blues');\n",
    "\n",
    "ax.set_ylim(ax.get_ylim()[::-1])"
   ]
  },
  {
   "cell_type": "code",
   "execution_count": null,
   "metadata": {},
   "outputs": [],
   "source": [
    "from scipy.ndimage import gaussian_filter"
   ]
  },
  {
   "cell_type": "code",
   "execution_count": null,
   "metadata": {},
   "outputs": [],
   "source": [
    "sqdiff_mask = (np.sqrt(sqdiff) < 2.)"
   ]
  },
  {
   "cell_type": "code",
   "execution_count": null,
   "metadata": {},
   "outputs": [],
   "source": [
    "fig, ax = plt.subplots(1, 1, figsize=(10, 4))\n",
    "H, xe, ye = np.histogram2d(\n",
    "    t_fr.phi1.degree[sqdiff_mask & (g < 23.2)], \n",
    "    t_fr.phi2.degree[sqdiff_mask & (g < 23.2)], \n",
    "    bins=(np.arange(-8, 8+1e-3, 0.05),\n",
    "          np.arange(-2, 2+1e-3, 0.05)))\n",
    "\n",
    "ax.pcolormesh(xe, ye, gaussian_filter(H, 2).T)\n",
    "\n",
    "# ---\n",
    "\n",
    "plt.figure()\n",
    "plt.hist(t_fr.phi2.degree[sqdiff_mask & (g < 23.2)],\n",
    "         bins=np.linspace(-2, 2, 64));"
   ]
  },
  {
   "cell_type": "code",
   "execution_count": null,
   "metadata": {},
   "outputs": [],
   "source": [
    "fig, ax = plt.subplots(1, 1, figsize=(10, 4))\n",
    "H, xe, ye = np.histogram2d(\n",
    "    t_fr.phi1.degree[simple_mask & (g < 23.2)], \n",
    "    t_fr.phi2.degree[simple_mask & (g < 23.2)], \n",
    "    bins=(np.arange(-8, 8+1e-3, 0.05),\n",
    "          np.arange(-2, 2+1e-3, 0.05)))\n",
    "\n",
    "ax.pcolormesh(xe, ye, gaussian_filter(H, 2).T)\n",
    "\n",
    "# ---\n",
    "plt.figure()\n",
    "plt.hist(t_fr.phi2.degree[simple_mask & (g < 23.2)],\n",
    "         bins=np.linspace(-2, 2, 64));"
   ]
  },
  {
   "cell_type": "code",
   "execution_count": null,
   "metadata": {},
   "outputs": [],
   "source": []
  }
 ],
 "metadata": {
  "kernelspec": {
   "display_name": "Python [conda env:root] *",
   "language": "python",
   "name": "conda-root-py"
  },
  "language_info": {
   "codemirror_mode": {
    "name": "ipython",
    "version": 3
   },
   "file_extension": ".py",
   "mimetype": "text/x-python",
   "name": "python",
   "nbconvert_exporter": "python",
   "pygments_lexer": "ipython3",
   "version": "3.7.3"
  }
 },
 "nbformat": 4,
 "nbformat_minor": 2
}
