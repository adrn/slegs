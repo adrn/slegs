{
 "cells": [
  {
   "cell_type": "markdown",
   "metadata": {},
   "source": [
    "Requires:\n",
    "```\n",
    "conda install -c conda-forge ipympl widgetsnbextension\n",
    "```\n",
    "\n",
    "proj.xy2ang() + https://matplotlib.org/3.1.1/users/event_handling.html"
   ]
  },
  {
   "cell_type": "code",
   "execution_count": 1,
   "metadata": {},
   "outputs": [],
   "source": [
    "import os\n",
    "import sys\n",
    "_path = os.path.abspath('../')\n",
    "if _path not in sys.path:\n",
    "    sys.path.append(_path)\n",
    "\n",
    "import astropy.coordinates as coord\n",
    "import astropy.table as at\n",
    "from astropy.io import fits\n",
    "import astropy.units as u\n",
    "import gala.coordinates as gc\n",
    "\n",
    "%matplotlib widget\n",
    "import matplotlib as mpl\n",
    "import matplotlib.pyplot as plt\n",
    "# %matplotlib qt5\n",
    "mpl.rcParams['savefig.dpi'] = 80\n",
    "mpl.rcParams['figure.dpi'] = 80\n",
    "from scipy.ndimage import gaussian_filter\n",
    "\n",
    "import numpy as np\n",
    "import healpy as hp\n",
    "from tqdm import tqdm, trange\n",
    "\n",
    "from stream_helpers import make_anim_frames, get_data, rots, zyx_euler_from_endpoints, StreamRidgeBuilder"
   ]
  },
  {
   "cell_type": "code",
   "execution_count": 2,
   "metadata": {},
   "outputs": [],
   "source": [
    "cube, dms, footprint_mask = get_data(bass_file='../data/BASS_iso_hpxcube_z0.0001_a13.5_gmax23.fits.gz', \n",
    "                                     decals_file='../data/DECaLS_iso_hpxcube_z0.0001_a13.5_gmax23.fits.gz')\n",
    "npix, nslice = cube.shape\n",
    "nside = hp.npix2nside(npix)\n",
    "dm_dist = coord.Distance(distmod=dms)"
   ]
  },
  {
   "cell_type": "code",
   "execution_count": 3,
   "metadata": {},
   "outputs": [
    {
     "name": "stdout",
     "output_type": "stream",
     "text": [
      "16.29999999999999 16.499999999999993\n"
     ]
    }
   ],
   "source": [
    "slice_idx = slice(23, 26)\n",
    "sub_cube = cube[:, slice_idx].sum(axis=1) / (slice_idx.stop - slice_idx.start)\n",
    "print(dms[slice_idx][0], dms[slice_idx][-1])"
   ]
  },
  {
   "cell_type": "code",
   "execution_count": 6,
   "metadata": {},
   "outputs": [],
   "source": [
    "rot = zyx_euler_from_endpoints(23.9, -49.9, 26.61, -44.7) # Phoenix\n",
    "# rot = zyx_euler_from_endpoints(19.5, -26.6, 31, -33.) # ATLAS\n",
    "proj = hp.projector.GnomonicProj(xsize=1024, ysize=512, \n",
    "                                 rot=rot, reso=4.)\n",
    "\n",
    "func = lambda x, y, z: hp.vec2pix(nside, x, y, z)\n",
    "img = proj.projmap(sub_cube, func)\n",
    "img = gaussian_filter(img, 1.5)"
   ]
  },
  {
   "cell_type": "code",
   "execution_count": 7,
   "metadata": {
    "scrolled": false
   },
   "outputs": [
    {
     "data": {
      "application/vnd.jupyter.widget-view+json": {
       "model_id": "8ca56b719bfd4fdd8f3ae1551dfa9cdf",
       "version_major": 2,
       "version_minor": 0
      },
      "text/plain": [
       "Canvas(toolbar=Toolbar(toolitems=[('Home', 'Reset original view', 'home', 'home'), ('Back', 'Back to  previous…"
      ]
     },
     "metadata": {},
     "output_type": "display_data"
    }
   ],
   "source": [
    "fig, ax = plt.subplots(1, 1, figsize=(10, 5))\n",
    "\n",
    "_mask = (img != 0) & np.isfinite(img)\n",
    "ax.imshow(img, \n",
    "          origin='bottom', extent=proj.get_extent(),\n",
    "          vmin=np.nanpercentile(img[_mask], 1),\n",
    "          vmax=np.nanpercentile(img[_mask], 95), \n",
    "          cmap='Greys')\n",
    "ax.xaxis.set_visible(False)\n",
    "ax.yaxis.set_visible(False)\n",
    "fig.tight_layout()\n",
    "\n",
    "gc_builder = StreamRidgeBuilder(ax, proj)\n",
    "            \n",
    "# plt.show()"
   ]
  },
  {
   "cell_type": "code",
   "execution_count": 85,
   "metadata": {},
   "outputs": [
    {
     "data": {
      "text/plain": [
       "[25.3252684156842, -47.34008274830022, 73.30501725767499]"
      ]
     },
     "execution_count": 85,
     "metadata": {},
     "output_type": "execute_result"
    }
   ],
   "source": [
    "zyx_euler_from_endpoints(23.903172489801012, -49.93874392389452, 26.613474341221124, -44.72548640646065)"
   ]
  },
  {
   "cell_type": "code",
   "execution_count": null,
   "metadata": {},
   "outputs": [],
   "source": []
  },
  {
   "cell_type": "code",
   "execution_count": null,
   "metadata": {},
   "outputs": [],
   "source": []
  },
  {
   "cell_type": "code",
   "execution_count": 78,
   "metadata": {},
   "outputs": [
    {
     "data": {
      "text/plain": [
       "[[23.610543624214518, -50.00904115781739],\n",
       " [24.90836300640222, -48.44208272133352],\n",
       " [25.707386306512177, -46.906041032575985],\n",
       " [26.527340913681236, -44.91889034642702],\n",
       " [27.247458090744537, -43.196624849055354],\n",
       " [33.8125266088898, -41.01644043006024],\n",
       " [33.8125266088898, -41.01644043006024]]"
      ]
     },
     "execution_count": 78,
     "metadata": {},
     "output_type": "execute_result"
    }
   ],
   "source": [
    "[[19.563572253712774, -55.80817703695607], [21.729323031565805, -52.75856518655871], [23.346253323894064, -49.97912456789504], [25.228400824779282, -47.52990507690572], [27.108652383715288, -44.377437782282186], [29.36150435106662, -38.20690425357492], [30.91081441221493, -33.6492882922184]]"
   ]
  },
  {
   "cell_type": "code",
   "execution_count": null,
   "metadata": {},
   "outputs": [],
   "source": []
  },
  {
   "cell_type": "code",
   "execution_count": 136,
   "metadata": {},
   "outputs": [],
   "source": [
    "fr = gc.GreatCircleICRSFrame(pole=coord.SkyCoord(142.1977106, 53.25641986, unit='deg'),\n",
    "                             ra0=232.0451099160*u.deg)"
   ]
  },
  {
   "cell_type": "code",
   "execution_count": 137,
   "metadata": {},
   "outputs": [
    {
     "data": {
      "text/plain": [
       "<ICRS Coordinate: (ra, dec) in deg\n",
       "    (232.04510992, -0.11392542)>"
      ]
     },
     "execution_count": 137,
     "metadata": {},
     "output_type": "execute_result"
    }
   ],
   "source": [
    "derp = fr.realize_frame(coord.UnitSphericalRepresentation(0*u.deg, 0*u.deg)).transform_to(coord.ICRS)\n",
    "derp"
   ]
  },
  {
   "cell_type": "code",
   "execution_count": 138,
   "metadata": {},
   "outputs": [
    {
     "data": {
      "text/plain": [
       "24.588643649856685"
      ]
     },
     "execution_count": 138,
     "metadata": {},
     "output_type": "execute_result"
    }
   ],
   "source": [
    "R = gc.greatcircle.reference_to_greatcircle(coord.ICRS, fr)\n",
    "herp = np.arctan2(R[2,1] / np.cos(derp.dec), \n",
    "                  R[2,2] / np.cos(derp.dec)).to_value(u.deg)\n",
    "herp"
   ]
  },
  {
   "cell_type": "code",
   "execution_count": 143,
   "metadata": {},
   "outputs": [],
   "source": [
    "# rot = [derp.ra.degree, derp.dec.degree, herp]\n",
    "rot = [27.47097460294872, -4.868245033819535, 30.08377796375123]"
   ]
  },
  {
   "cell_type": "code",
   "execution_count": 144,
   "metadata": {},
   "outputs": [
    {
     "data": {
      "application/vnd.jupyter.widget-view+json": {
       "model_id": "",
       "version_major": 2,
       "version_minor": 0
      },
      "text/plain": [
       "Canvas(toolbar=Toolbar(toolitems=[('Home', 'Reset original view', 'home', 'home'), ('Back', 'Back to  previous…"
      ]
     },
     "metadata": {},
     "output_type": "display_data"
    }
   ],
   "source": [
    "proj = hp.projector.MollweideProj(xsize=1024, \n",
    "                                  rot=rot)\n",
    "img = proj.projmap(map_, func) \n",
    "\n",
    "fig, ax = plt.subplots(1, 1, figsize=(10, 5))\n",
    "\n",
    "_mask = (img != 0) & np.isfinite(img)\n",
    "ax.imshow(img, origin='bottom', extent=proj.get_extent(),\n",
    "          vmin=np.nanpercentile(img[_mask], 1),\n",
    "          vmax=np.nanpercentile(img[_mask], 95))\n",
    "ax.xaxis.set_visible(False)\n",
    "ax.yaxis.set_visible(False)\n",
    "fig.tight_layout()"
   ]
  },
  {
   "cell_type": "code",
   "execution_count": null,
   "metadata": {},
   "outputs": [],
   "source": []
  },
  {
   "cell_type": "code",
   "execution_count": null,
   "metadata": {},
   "outputs": [],
   "source": []
  },
  {
   "cell_type": "code",
   "execution_count": 9,
   "metadata": {},
   "outputs": [],
   "source": [
    "class GreatCircleBuilder:\n",
    "\n",
    "    def __init__(self, ax, proj):\n",
    "        self.ax = ax\n",
    "        self.reset()\n",
    "        \n",
    "        self.cids = {}\n",
    "        self.cids['mouse'] = self.ax.figure.canvas.mpl_connect('button_press_event',\n",
    "                                                               self)\n",
    "        self.cids['key'] = fig.canvas.mpl_connect('key_press_event', self)\n",
    "\n",
    "\n",
    "    def reset(self):\n",
    "        self.line = None\n",
    "        self.xs = list()\n",
    "        self.ys = list()\n",
    "\n",
    "    def __call__(self, event):\n",
    "        if event.inaxes != self.ax:\n",
    "            return\n",
    "\n",
    "        self.xs.append(event.xdata)\n",
    "        self.ys.append(event.ydata)\n",
    "\n",
    "        if self.line is None:\n",
    "            self.line, = self.ax.plot(self.xs, self.ys, color='tab:red')\n",
    "        else:\n",
    "            self.line.set_data(self.xs, self.ys)\n",
    "\n",
    "        self.line.figure.canvas.draw()\n",
    "        \n",
    "        print(event.key)\n",
    "\n",
    "        if len(self.xs) >= 2:\n",
    "            endpoints = [proj.xy2ang(x, y, lonlat=True) \n",
    "                         for x, y in zip(self.xs, self.ys)] * u.deg\n",
    "            c1 = coord.SkyCoord(endpoints[0, 0], endpoints[0, 1])\n",
    "            c2 = coord.SkyCoord(endpoints[1, 0], endpoints[1, 1])\n",
    "            fr = gc.GreatCircleICRSFrame.from_endpoints(c1, c2)\n",
    "            origin = fr.realize_frame(coord.UnitSphericalRepresentation(0*u.deg, 0*u.deg))\n",
    "            print(fr)\n",
    "            gc_icrs = origin.transform_to(coord.ICRS)\n",
    "            R = gc.greatcircle.reference_to_greatcircle(coord.ICRS, fr)\n",
    "            psi = -np.degrees(np.arctan2(R[2,1], R[2,2]))\n",
    "            print([gc_icrs.ra.degree, gc_icrs.dec.degree, psi])\n",
    "            \n",
    "            self.line.set_data([], [])\n",
    "            self.reset()"
   ]
  }
 ],
 "metadata": {
  "kernelspec": {
   "display_name": "Python [conda env:root] *",
   "language": "python",
   "name": "conda-root-py"
  },
  "language_info": {
   "codemirror_mode": {
    "name": "ipython",
    "version": 3
   },
   "file_extension": ".py",
   "mimetype": "text/x-python",
   "name": "python",
   "nbconvert_exporter": "python",
   "pygments_lexer": "ipython3",
   "version": "3.7.5"
  },
  "toc": {
   "base_numbering": 1,
   "nav_menu": {},
   "number_sections": true,
   "sideBar": true,
   "skip_h1_title": false,
   "title_cell": "Table of Contents",
   "title_sidebar": "Contents",
   "toc_cell": false,
   "toc_position": {},
   "toc_section_display": true,
   "toc_window_display": false
  }
 },
 "nbformat": 4,
 "nbformat_minor": 2
}
