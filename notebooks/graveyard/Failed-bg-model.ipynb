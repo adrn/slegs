{
 "cells": [
  {
   "cell_type": "markdown",
   "metadata": {},
   "source": [
    "---"
   ]
  },
  {
   "cell_type": "code",
   "execution_count": null,
   "metadata": {},
   "outputs": [],
   "source": [
    "from scipy.optimize import leastsq"
   ]
  },
  {
   "cell_type": "code",
   "execution_count": null,
   "metadata": {},
   "outputs": [],
   "source": [
    "def bg_func(l, b, coeff_l, coeff_b):\n",
    "    l_poly = np.poly1d(coeff_l)\n",
    "    b_poly = np.poly1d(coeff_b)\n",
    "    return l_poly(l) * b_poly(b)\n",
    "\n",
    "def fit_func(p, l, b, val, Kl, Kb):\n",
    "    return bg_func(l, b, p[:Kl], p[Kl:Kl+Kb]) - val"
   ]
  },
  {
   "cell_type": "code",
   "execution_count": null,
   "metadata": {},
   "outputs": [],
   "source": [
    "x0_b = [3.1, 0, -2e-4, 0, 1e-8, 0, 0][::-1]\n",
    "x0_l = [2.75, 0, -1e-4, 0, 3e-9, 0, 0][::-1]\n",
    "x0 = np.concatenate((x0_l, x0_b))\n",
    "\n",
    "_data_mask = (full_stack_masked != 0)\n",
    "res, ier = leastsq(fit_func, x0=x0, \n",
    "                   args=(pix_l[_data_mask].wrap_at(180*u.deg).value, \n",
    "                         np.cos(pix_b[_data_mask]), \n",
    "                         np.log10(full_stack_masked[_data_mask]),\n",
    "                         len(x0_l), len(x0_b)))"
   ]
  },
  {
   "cell_type": "code",
   "execution_count": null,
   "metadata": {},
   "outputs": [],
   "source": [
    "res, ier = res"
   ]
  },
  {
   "cell_type": "code",
   "execution_count": null,
   "metadata": {},
   "outputs": [],
   "source": [
    "proj = hp.projector.MollweideProj(xsize=1024, \n",
    "                                  rot=[266.40498829, -28.93617776, 59.])\n",
    "bg_model = 10 ** bg_func(pix_l.wrap_at(180*u.deg).value, \n",
    "                         np.cos(pix_b), \n",
    "                         res[:len(x0_l)], res[len(x0_l):])\n",
    "\n",
    "img = proj.projmap(bg_model, func)\n",
    "\n",
    "fig, ax = plt.subplots(1, 1, figsize=(16, 16))\n",
    "ax.imshow(img, origin='bottom', extent=proj.get_extent())\n",
    "ax.xaxis.set_visible(False)\n",
    "ax.yaxis.set_visible(False)"
   ]
  },
  {
   "cell_type": "code",
   "execution_count": null,
   "metadata": {},
   "outputs": [],
   "source": [
    "# plt.figure(figsize=(10, 8))\n",
    "# plt.plot(pix_b[(full_stack_masked != 0)].value, \n",
    "#          np.log10(full_stack_masked[(full_stack_masked != 0)]),\n",
    "#          marker='o', mew=0, ls='none', ms=1.5, alpha=0.1)\n",
    "\n",
    "# bbb = np.linspace(-90, 90, 128)\n",
    "# plt.plot(bbb, np.poly1d(x0_b)(bbb))\n",
    "\n",
    "# plt.figure(figsize=(10, 8))\n",
    "# plt.plot(pix_l[(full_stack_masked != 0)].wrap_at(180*u.deg).value, \n",
    "#          np.log10(full_stack_masked[(full_stack_masked != 0)]),\n",
    "#          marker='o', mew=0, ls='none', ms=1.5, alpha=0.1)\n",
    "\n",
    "# bbb = np.linspace(-180, 180, 128)\n",
    "# plt.plot(bbb, np.poly1d(x0_l)(bbb))"
   ]
  },
  {
   "cell_type": "code",
   "execution_count": null,
   "metadata": {},
   "outputs": [],
   "source": [
    "proj = hp.projector.MollweideProj(xsize=1024, \n",
    "                                  rot=[266.40498829, -28.93617776, 59.])\n",
    "bg_model = 10 ** bg_func(pix_l.wrap_at(180*u.deg).value, np.cos(pix_b), #.value, \n",
    "                         res[0][:len(x0_l)], res[0][len(x0_l):])\n",
    "# img = proj.projmap(bg_model, func)\n",
    "\n",
    "diff = full_stack - bg_model\n",
    "diff[full_stack == 0] = hp.UNSEEN\n",
    "img = proj.projmap(diff, func)\n",
    "\n",
    "fig, ax = plt.subplots(1, 1, figsize=(16, 16))\n",
    "ax.imshow(img, origin='bottom', extent=proj.get_extent(), \n",
    "          vmin=-5, vmax=1e1, cmap='Greys')\n",
    "ax.xaxis.set_visible(False)\n",
    "ax.yaxis.set_visible(False)"
   ]
  },
  {
   "cell_type": "markdown",
   "metadata": {},
   "source": [
    "Construct a low-order reconstruction using spherical harmonics:"
   ]
  },
  {
   "cell_type": "code",
   "execution_count": null,
   "metadata": {},
   "outputs": [],
   "source": [
    "# meh, doesn't work!\n",
    "# lmax = 4\n",
    "# alm = hp.map2alm(full_stack_masked, lmax=lmax)\n",
    "# bg = hp.alm2map(alm, nside=nside, lmax=lmax)\n",
    "\n",
    "# img = proj.projmap(bg, func)\n",
    "# fig, ax = plt.subplots(1, 1, figsize=(16, 16))\n",
    "# ax.imshow(img, origin='bottom', extent=proj.get_extent())\n",
    "# ax.xaxis.set_visible(False)\n",
    "# ax.yaxis.set_visible(False)\n",
    "\n",
    "# img = proj.projmap(full_stack - bg, func)\n",
    "# fig, ax = plt.subplots(1, 1, figsize=(16, 16))\n",
    "# ax.imshow(img, origin='bottom', extent=proj.get_extent(), vmin=0, vmax=1e4)\n",
    "# ax.xaxis.set_visible(False)\n",
    "# ax.yaxis.set_visible(False)"
   ]
  },
  {
   "cell_type": "code",
   "execution_count": null,
   "metadata": {},
   "outputs": [],
   "source": []
  }
 ],
 "metadata": {
  "kernelspec": {
   "display_name": "Python [conda env:root] *",
   "language": "python",
   "name": "conda-root-py"
  },
  "language_info": {
   "codemirror_mode": {
    "name": "ipython",
    "version": 3
   },
   "file_extension": ".py",
   "mimetype": "text/x-python",
   "name": "python",
   "nbconvert_exporter": "python",
   "pygments_lexer": "ipython3",
   "version": "3.7.3"
  },
  "toc": {
   "base_numbering": 1,
   "nav_menu": {},
   "number_sections": true,
   "sideBar": true,
   "skip_h1_title": false,
   "title_cell": "Table of Contents",
   "title_sidebar": "Contents",
   "toc_cell": false,
   "toc_position": {},
   "toc_section_display": true,
   "toc_window_display": false
  }
 },
 "nbformat": 4,
 "nbformat_minor": 2
}
