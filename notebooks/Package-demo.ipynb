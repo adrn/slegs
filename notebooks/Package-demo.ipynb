{
 "cells": [
  {
   "cell_type": "code",
   "execution_count": 9,
   "metadata": {},
   "outputs": [],
   "source": [
    "import os\n",
    "import sys\n",
    "_path = os.path.abspath('../')\n",
    "if _path not in sys.path:\n",
    "    sys.path.append(_path)\n",
    "\n",
    "import astropy.coordinates as coord\n",
    "import astropy.table as at\n",
    "from astropy.io import fits\n",
    "import astropy.units as u\n",
    "import gala.coordinates as gc\n",
    "\n",
    "import matplotlib as mpl\n",
    "import matplotlib.pyplot as plt\n",
    "%matplotlib inline\n",
    "import numpy as np\n",
    "import healpy as hp\n",
    "from tqdm import tqdm, trange\n",
    "func = lambda x, y, z: hp.vec2pix(nside, x, y, z)\n",
    "\n",
    "from stream_helpers import make_anim_frames, get_data, rots, zyx_euler_from_endpoints"
   ]
  },
  {
   "cell_type": "code",
   "execution_count": 2,
   "metadata": {},
   "outputs": [],
   "source": [
    "cube, dms, footprint_mask = get_data(bass_file='../data/BASS_iso_hpxcube_z0.0001_a13.5_gmax23.fits.gz', \n",
    "                                     decals_file='../data/DECaLS_iso_hpxcube_z0.0001_a13.5_gmax23.fits.gz')\n",
    "npix, nslice = cube.shape\n",
    "nside = hp.npix2nside(npix)"
   ]
  },
  {
   "cell_type": "code",
   "execution_count": 16,
   "metadata": {},
   "outputs": [],
   "source": [
    "rot = zyx_euler_from_endpoints(19.5, -26.6, 31, -33.)"
   ]
  },
  {
   "cell_type": "code",
   "execution_count": 17,
   "metadata": {},
   "outputs": [],
   "source": [
    "proj = hp.projector.GnomonicProj(xsize=1024, ysize=512, \n",
    "                                 rot=rot, reso=3.)"
   ]
  },
  {
   "cell_type": "code",
   "execution_count": null,
   "metadata": {
    "scrolled": false
   },
   "outputs": [],
   "source": [
    "make_anim_frames(cube, dms, proj, name='atlas', \n",
    "                 mu_lim=(16, 16.1), save_path=False, close_fig=False)"
   ]
  },
  {
   "cell_type": "code",
   "execution_count": null,
   "metadata": {},
   "outputs": [],
   "source": []
  }
 ],
 "metadata": {
  "kernelspec": {
   "display_name": "Python [conda env:root] *",
   "language": "python",
   "name": "conda-root-py"
  },
  "language_info": {
   "codemirror_mode": {
    "name": "ipython",
    "version": 3
   },
   "file_extension": ".py",
   "mimetype": "text/x-python",
   "name": "python",
   "nbconvert_exporter": "python",
   "pygments_lexer": "ipython3",
   "version": "3.7.5"
  },
  "toc": {
   "base_numbering": 1,
   "nav_menu": {},
   "number_sections": true,
   "sideBar": true,
   "skip_h1_title": false,
   "title_cell": "Table of Contents",
   "title_sidebar": "Contents",
   "toc_cell": false,
   "toc_position": {},
   "toc_section_display": true,
   "toc_window_display": false
  }
 },
 "nbformat": 4,
 "nbformat_minor": 4
}
